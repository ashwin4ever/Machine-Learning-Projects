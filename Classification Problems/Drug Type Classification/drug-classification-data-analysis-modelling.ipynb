{
 "cells": [
  {
   "cell_type": "markdown",
   "metadata": {
    "execution": {
     "iopub.execute_input": "2021-09-01T20:38:54.78523Z",
     "iopub.status.busy": "2021-09-01T20:38:54.784614Z",
     "iopub.status.idle": "2021-09-01T20:38:54.788939Z",
     "shell.execute_reply": "2021-09-01T20:38:54.787726Z",
     "shell.execute_reply.started": "2021-09-01T20:38:54.785196Z"
    }
   },
   "source": [
    "# Drug Classification\n",
    "\n",
    "In this notebook we will be solving the problem of classifying the type of drug from the $5$ drug types given (i.e.):\n",
    "* drugX\n",
    "* drugY\n",
    "* drugC\n",
    "* drugA\n",
    "* drugB\n",
    "\n",
    "This is a *multiclass classification* problem as we have five classes in the target to predict.\n",
    "\n",
    "\n",
    "\n",
    "<img src = \"https://images.theconversation.com/files/358080/original/file-20200915-22-1t5myba.jpg?ixlib=rb-1.1.0&q=45&auto=format&w=926&fit=clip\" width = 600 height = 200>\n",
    "\n",
    "<br>\n",
    "\n",
    "\n",
    "**Data Attributes**\n",
    "* Age\n",
    "* Sex\n",
    "* Blood Pressure Levels\n",
    "* Cholesterol Levels\n",
    "* Na to Potassium Ratio\n",
    "\n",
    "**Target Feature**\n",
    "* Drug Type\n",
    "\n",
    "Roughly, we will be following the below structure: \n",
    "\n",
    "* Load the data.\n",
    "* Display useful statistics.\n",
    "* Build generic functions to detect nulls and missing values.\n",
    "* Handle missing values.\n",
    "* Make Visualizations to understand data better.\n",
    "* Build Models"
   ]
  },
  {
   "cell_type": "markdown",
   "metadata": {},
   "source": [
    "## Table of Contents\n",
    "\n",
    "* [Import Libraries](#lib)\n",
    "* [Load Data](#load_data)\n",
    "* [Summary Statistics](#summary_stats)\n",
    "* [Identify Missing or Null Values](#missing_values)\n",
    "* [EDA & Data Visualization](#eda_data_vis)\n",
    "* [Encoding Categorical Features](#encoding)\n",
    "* [Developing Classification Models](#model)\n",
    "* [Evaluating Classification Models](#evaluate)"
   ]
  },
  {
   "cell_type": "markdown",
   "metadata": {},
   "source": [
    "<a id ='lib'></a>\n",
    "# Import Libraries"
   ]
  },
  {
   "cell_type": "code",
   "execution_count": 47,
   "metadata": {
    "_cell_guid": "b1076dfc-b9ad-4769-8c92-a6c4dae69d19",
    "_uuid": "8f2839f25d086af736a60e9eeb907d3b93b6e0e5",
    "execution": {
     "iopub.execute_input": "2021-09-04T20:46:32.008415Z",
     "iopub.status.busy": "2021-09-04T20:46:32.007973Z",
     "iopub.status.idle": "2021-09-04T20:46:33.106286Z",
     "shell.execute_reply": "2021-09-04T20:46:33.105270Z",
     "shell.execute_reply.started": "2021-09-04T20:46:32.008314Z"
    }
   },
   "outputs": [],
   "source": [
    "import os\n",
    "import numpy as np \n",
    "import matplotlib.pyplot as plt\n",
    "import missingno as msno\n",
    "import seaborn as sns\n",
    "import pandas as pd \n",
    "pd.options.mode.chained_assignment = None  # default='warn'\n",
    "\n",
    "from IPython.core.display import HTML, display\n",
    "import warnings\n",
    "warnings.filterwarnings('ignore')\n",
    "\n",
    "\n"
   ]
  },
  {
   "cell_type": "markdown",
   "metadata": {},
   "source": [
    "<a id = 'load_data'></a>\n",
    "# Load Data"
   ]
  },
  {
   "cell_type": "code",
   "execution_count": 48,
   "metadata": {
    "execution": {
     "iopub.execute_input": "2021-09-04T20:46:33.108358Z",
     "iopub.status.busy": "2021-09-04T20:46:33.108049Z",
     "iopub.status.idle": "2021-09-04T20:46:33.140136Z",
     "shell.execute_reply": "2021-09-04T20:46:33.139139Z",
     "shell.execute_reply.started": "2021-09-04T20:46:33.108327Z"
    }
   },
   "outputs": [
    {
     "name": "stdout",
     "output_type": "stream",
     "text": [
      "   Age Sex      BP Cholesterol  Na_to_K   Drug\n",
      "0   23   F    HIGH        HIGH   25.355  DrugY\n",
      "1   47   M     LOW        HIGH   13.093  drugC\n",
      "2   47   M     LOW        HIGH   10.114  drugC\n",
      "3   28   F  NORMAL        HIGH    7.798  drugX\n",
      "4   61   F     LOW        HIGH   18.043  DrugY\n",
      "5   22   F  NORMAL        HIGH    8.607  drugX\n",
      "6   49   F  NORMAL        HIGH   16.275  DrugY\n",
      "7   41   M     LOW        HIGH   11.037  drugC\n",
      "8   60   M  NORMAL        HIGH   15.171  DrugY\n",
      "9   43   M     LOW      NORMAL   19.368  DrugY\n"
     ]
    }
   ],
   "source": [
    "drugs_df = pd.read_csv('drug200.csv')\n",
    "\n",
    "print(drugs_df.head(10))"
   ]
  },
  {
   "cell_type": "markdown",
   "metadata": {},
   "source": [
    "<a id = 'summary_stats'></a>\n",
    "## Display summary statistics"
   ]
  },
  {
   "cell_type": "code",
   "execution_count": 49,
   "metadata": {
    "execution": {
     "iopub.execute_input": "2021-09-04T20:46:33.144677Z",
     "iopub.status.busy": "2021-09-04T20:46:33.144320Z",
     "iopub.status.idle": "2021-09-04T20:46:33.149726Z",
     "shell.execute_reply": "2021-09-04T20:46:33.148668Z",
     "shell.execute_reply.started": "2021-09-04T20:46:33.144640Z"
    }
   },
   "outputs": [
    {
     "name": "stdout",
     "output_type": "stream",
     "text": [
      "Index(['Age', 'Sex', 'BP', 'Cholesterol', 'Na_to_K', 'Drug'], dtype='object')\n"
     ]
    }
   ],
   "source": [
    "# Display column names\n",
    "print(drugs_df.columns)"
   ]
  },
  {
   "cell_type": "code",
   "execution_count": 50,
   "metadata": {
    "execution": {
     "iopub.execute_input": "2021-09-04T20:46:33.152362Z",
     "iopub.status.busy": "2021-09-04T20:46:33.151956Z",
     "iopub.status.idle": "2021-09-04T20:46:33.182968Z",
     "shell.execute_reply": "2021-09-04T20:46:33.182228Z",
     "shell.execute_reply.started": "2021-09-04T20:46:33.152319Z"
    }
   },
   "outputs": [
    {
     "name": "stdout",
     "output_type": "stream",
     "text": [
      "<class 'pandas.core.frame.DataFrame'>\n",
      "RangeIndex: 200 entries, 0 to 199\n",
      "Data columns (total 6 columns):\n",
      " #   Column       Non-Null Count  Dtype  \n",
      "---  ------       --------------  -----  \n",
      " 0   Age          200 non-null    int64  \n",
      " 1   Sex          200 non-null    object \n",
      " 2   BP           200 non-null    object \n",
      " 3   Cholesterol  200 non-null    object \n",
      " 4   Na_to_K      200 non-null    float64\n",
      " 5   Drug         200 non-null    object \n",
      "dtypes: float64(1), int64(1), object(4)\n",
      "memory usage: 9.5+ KB\n",
      "None\n"
     ]
    }
   ],
   "source": [
    "print(drugs_df.info())"
   ]
  },
  {
   "cell_type": "markdown",
   "metadata": {},
   "source": [
    "This dataset has more categorical features than numerical. So we may have to encode the categorical features."
   ]
  },
  {
   "cell_type": "code",
   "execution_count": 51,
   "metadata": {
    "execution": {
     "iopub.execute_input": "2021-09-04T20:46:33.184692Z",
     "iopub.status.busy": "2021-09-04T20:46:33.184233Z",
     "iopub.status.idle": "2021-09-04T20:46:33.210339Z",
     "shell.execute_reply": "2021-09-04T20:46:33.209657Z",
     "shell.execute_reply.started": "2021-09-04T20:46:33.184649Z"
    }
   },
   "outputs": [
    {
     "name": "stdout",
     "output_type": "stream",
     "text": [
      "              Age     Na_to_K\n",
      "count  200.000000  200.000000\n",
      "mean    44.315000   16.084485\n",
      "std     16.544315    7.223956\n",
      "min     15.000000    6.269000\n",
      "25%     31.000000   10.445500\n",
      "50%     45.000000   13.936500\n",
      "75%     58.000000   19.380000\n",
      "max     74.000000   38.247000\n"
     ]
    }
   ],
   "source": [
    "print(drugs_df.describe())"
   ]
  },
  {
   "cell_type": "markdown",
   "metadata": {},
   "source": [
    "The maximum or the oldest age give is $74$ and the youngest being $15$"
   ]
  },
  {
   "cell_type": "markdown",
   "metadata": {},
   "source": [
    "<a id = 'missing_values'></a>\n",
    "# Investigating Missing Values"
   ]
  },
  {
   "cell_type": "code",
   "execution_count": 52,
   "metadata": {
    "execution": {
     "iopub.execute_input": "2021-09-04T20:46:33.211873Z",
     "iopub.status.busy": "2021-09-04T20:46:33.211457Z",
     "iopub.status.idle": "2021-09-04T20:46:33.218442Z",
     "shell.execute_reply": "2021-09-04T20:46:33.217585Z",
     "shell.execute_reply.started": "2021-09-04T20:46:33.211834Z"
    }
   },
   "outputs": [],
   "source": [
    "# Generic function to calculate missing values, zero values\n",
    "def calcMissingValues(df: pd.DataFrame):\n",
    "    '''\n",
    "    Function to calculate zero,missing and empty values in the dataframe\n",
    "    \n",
    "    '''\n",
    "    # Calculate zero values\n",
    "    zero_values = (df == 0.0).astype(int).sum(axis = 0)\n",
    "    \n",
    "    # Calculate missing values\n",
    "    missing_vals = df.isnull().sum()\n",
    "    \n",
    "    missing_val_percent = round((missing_vals / len(df)) * 100.0 , 2)\n",
    "    \n",
    "    df_missing_stat = pd.concat([zero_values , missing_vals , missing_val_percent] , axis = 1)\n",
    "    \n",
    "    df_missing_stat = df_missing_stat.rename(columns = {0: 'zero_values' , 1: 'missing_vals' , 2: '%_missing_vals'})\n",
    "    \n",
    "    df_missing_stat['data_types'] = df.dtypes\n",
    "    \n",
    "    print(df_missing_stat)\n",
    "    \n",
    "    \n",
    "    "
   ]
  },
  {
   "cell_type": "code",
   "execution_count": 53,
   "metadata": {
    "execution": {
     "iopub.execute_input": "2021-09-04T20:46:33.220310Z",
     "iopub.status.busy": "2021-09-04T20:46:33.219875Z",
     "iopub.status.idle": "2021-09-04T20:46:33.258666Z",
     "shell.execute_reply": "2021-09-04T20:46:33.257842Z",
     "shell.execute_reply.started": "2021-09-04T20:46:33.220272Z"
    }
   },
   "outputs": [
    {
     "name": "stdout",
     "output_type": "stream",
     "text": [
      "             zero_values  missing_vals  %_missing_vals data_types\n",
      "Age                    0             0             0.0      int64\n",
      "Sex                    0             0             0.0     object\n",
      "BP                     0             0             0.0     object\n",
      "Cholesterol            0             0             0.0     object\n",
      "Na_to_K                0             0             0.0    float64\n",
      "Drug                   0             0             0.0     object\n"
     ]
    }
   ],
   "source": [
    "calcMissingValues(drugs_df)"
   ]
  },
  {
   "cell_type": "markdown",
   "metadata": {},
   "source": [
    "As seen, the dataset is clean without any missing values to impute."
   ]
  },
  {
   "cell_type": "markdown",
   "metadata": {},
   "source": [
    "<a id = 'eda_data_vis'> </a>\n",
    "# EDA & Data Visualization"
   ]
  },
  {
   "cell_type": "markdown",
   "metadata": {},
   "source": [
    "#### Visualize **Age** versus **Drug Type**\n",
    "* Stripplot\n",
    "* Boxplot"
   ]
  },
  {
   "cell_type": "markdown",
   "metadata": {},
   "source": [
    "**Stripplot**"
   ]
  },
  {
   "cell_type": "code",
   "execution_count": 54,
   "metadata": {
    "execution": {
     "iopub.execute_input": "2021-09-04T20:46:33.261152Z",
     "iopub.status.busy": "2021-09-04T20:46:33.260733Z",
     "iopub.status.idle": "2021-09-04T20:46:33.471653Z",
     "shell.execute_reply": "2021-09-04T20:46:33.470676Z",
     "shell.execute_reply.started": "2021-09-04T20:46:33.261111Z"
    }
   },
   "outputs": [
    {
     "data": {
      "image/png": "[encoded data removed]",
      "text/plain": [
       "<Figure size 720x432 with 1 Axes>"
      ]
     },
     "metadata": {
      "needs_background": "light"
     },
     "output_type": "display_data"
    }
   ],
   "source": [
    "# Visualize age and drug type using strip plot\n",
    "plt.figure(figsize = (10 , 6))\n",
    "# Plotting a swarmplot to get a distribution of categorical and numerical variables\n",
    "sns.stripplot(x = 'Drug' , y = 'Age' , data = drugs_df)\n",
    "plt.title('Distribution of Age & Drug')\n",
    "plt.show()\n",
    "\n"
   ]
  },
  {
   "cell_type": "markdown",
   "metadata": {},
   "source": [
    "The stripplot is used to visualize multiple data distributions, from the plot it looks like *DrugY* and *drugX* are more commonly prescribed or used by the populace."
   ]
  },
  {
   "cell_type": "markdown",
   "metadata": {},
   "source": [
    "**Box Plot**"
   ]
  },
  {
   "cell_type": "code",
   "execution_count": 55,
   "metadata": {
    "execution": {
     "iopub.execute_input": "2021-09-04T20:46:33.473848Z",
     "iopub.status.busy": "2021-09-04T20:46:33.473517Z",
     "iopub.status.idle": "2021-09-04T20:46:33.774034Z",
     "shell.execute_reply": "2021-09-04T20:46:33.772981Z",
     "shell.execute_reply.started": "2021-09-04T20:46:33.473815Z"
    }
   },
   "outputs": [
    {
     "data": {
      "image/png": "[encoded data removed]",
      "text/plain": [
       "<Figure size 720x576 with 1 Axes>"
      ]
     },
     "metadata": {
      "needs_background": "light"
     },
     "output_type": "display_data"
    }
   ],
   "source": [
    "# Visualize age and drug type using Box plot\n",
    "\n",
    "props = dict(boxes = \"orange\", whiskers=\"black\", medians= \"green\", caps =\"Gray\")\n",
    "drugs_df.boxplot(by = 'Drug' , column = ['Age'] , figsize = (10 , 8) , color = props )\n",
    "plt.title('Distribution of Age & Drug')\n",
    "plt.suptitle(\"\")\n",
    "plt.tight_layout()\n",
    "plt.show()"
   ]
  },
  {
   "cell_type": "markdown",
   "metadata": {},
   "source": [
    "This confirms our assumption that *DrugY* and *drugX* are most commonly used"
   ]
  },
  {
   "cell_type": "markdown",
   "metadata": {},
   "source": [
    "### Visualize target variable **Drug**\n",
    "\n",
    "We now visualize the distribution of the target variable to see if there are any imbalances in class distribution as this is a multiclass classification and any imbalances might affect the outcome.\n",
    "\n",
    "There will be two plots:\n",
    "* Bar plot\n",
    "* Pie Chart"
   ]
  },
  {
   "cell_type": "markdown",
   "metadata": {},
   "source": [
    "**Bar Plot**"
   ]
  },
  {
   "cell_type": "code",
   "execution_count": 56,
   "metadata": {
    "execution": {
     "iopub.execute_input": "2021-09-04T20:46:33.775783Z",
     "iopub.status.busy": "2021-09-04T20:46:33.775442Z",
     "iopub.status.idle": "2021-09-04T20:46:33.927125Z",
     "shell.execute_reply": "2021-09-04T20:46:33.926374Z",
     "shell.execute_reply.started": "2021-09-04T20:46:33.775751Z"
    }
   },
   "outputs": [
    {
     "name": "stdout",
     "output_type": "stream",
     "text": [
      "['DrugY' 'drugC' 'drugX' 'drugA' 'drugB']\n"
     ]
    },
    {
     "data": {
      "image/png": "[encoded data removed]",
      "text/plain": [
       "<Figure size 720x576 with 1 Axes>"
      ]
     },
     "metadata": {
      "needs_background": "light"
     },
     "output_type": "display_data"
    }
   ],
   "source": [
    "# Get unique class values\n",
    "print(drugs_df['Drug'].unique())\n",
    "\n",
    "# Plot a bar chart of the various classes\n",
    "drugs_df['Drug'].value_counts().plot(kind = 'bar' , x = 'Drug Type' , y = 'Drug Type Count' , color = 'yellow' , figsize = (10 , 8))\n",
    "plt.title('Drug Type Distribution')\n",
    "plt.show()"
   ]
  },
  {
   "cell_type": "markdown",
   "metadata": {},
   "source": [
    "**Pie Chart**"
   ]
  },
  {
   "cell_type": "code",
   "execution_count": 57,
   "metadata": {
    "execution": {
     "iopub.execute_input": "2021-09-04T20:46:33.928796Z",
     "iopub.status.busy": "2021-09-04T20:46:33.928326Z",
     "iopub.status.idle": "2021-09-04T20:46:34.203392Z",
     "shell.execute_reply": "2021-09-04T20:46:34.202196Z",
     "shell.execute_reply.started": "2021-09-04T20:46:33.928758Z"
    }
   },
   "outputs": [
    {
     "name": "stdout",
     "output_type": "stream",
     "text": [
      "Drug\n",
      "DrugY    91\n",
      "drugA    23\n",
      "drugB    16\n",
      "drugC    16\n",
      "drugX    54\n",
      "dtype: int64\n"
     ]
    },
    {
     "data": {
      "image/png": "[encoded data removed]",
      "text/plain": [
       "<Figure size 720x576 with 1 Axes>"
      ]
     },
     "metadata": {},
     "output_type": "display_data"
    }
   ],
   "source": [
    "print(drugs_df.groupby(['Drug']).size())\n",
    "\n",
    "drug_type = drugs_df.groupby(['Drug']).size()\n",
    "\n",
    "sizes = list(drugs_df.groupby(['Drug']).size())\n",
    "\n",
    "labels = ['Bachelors' , 'Below Secondary', 'Masters']\n",
    "\n",
    "pie_chart_drug = {'labels': list(drug_type.index.values) , 'vals': sizes}\n",
    "\n",
    "\n",
    "# print(drug_type.index.values)\n",
    "# print(sizes)\n",
    "\n",
    "colors = ['#b79c4f', '#4fb772', '#eb7d26' , '#77e8c2' , '#99eff2']\n",
    "\n",
    "#print(pie_chart_drug)\n",
    "# colors = ['#ff9999','#1f70f0','#99ff99']\n",
    "pie_explode = [0 , 0 , 0.3 , 0 , 0]\n",
    "\n",
    "plt.figure(figsize = (10 , 8))\n",
    "plt.pie(pie_chart_drug['vals'] , labels = pie_chart_drug['labels'] , explode = pie_explode , colors = colors , shadow = True, startangle = 90 , textprops={'fontsize': 14} , autopct = '%.1f%%')\n",
    "plt.ylabel('')\n",
    "plt.title('Drug Type distribution in the data' , fontsize = 20)\n",
    "plt.tight_layout()\n",
    "plt.show()"
   ]
  },
  {
   "cell_type": "markdown",
   "metadata": {},
   "source": [
    "From the two plots we see the distribution of *drugA*, *drugB* and *drugC* is relatively lower. This may affect the prediction and based on the accuracy metrics we can use **SMOTE** to oversample classes having lower distributions"
   ]
  },
  {
   "cell_type": "markdown",
   "metadata": {},
   "source": [
    "### Visualize **Gender** and **Drug**"
   ]
  },
  {
   "cell_type": "code",
   "execution_count": 58,
   "metadata": {
    "execution": {
     "iopub.execute_input": "2021-09-04T20:46:34.205534Z",
     "iopub.status.busy": "2021-09-04T20:46:34.205070Z",
     "iopub.status.idle": "2021-09-04T20:46:34.488512Z",
     "shell.execute_reply": "2021-09-04T20:46:34.487352Z",
     "shell.execute_reply.started": "2021-09-04T20:46:34.205488Z"
    }
   },
   "outputs": [
    {
     "name": "stdout",
     "output_type": "stream",
     "text": [
      "  Sex   Drug  value_count\n",
      "0   F  DrugY           47\n",
      "1   F  drugA            9\n",
      "2   F  drugB            6\n",
      "3   F  drugC            7\n",
      "4   F  drugX           27\n",
      "5   M  DrugY           44\n",
      "6   M  drugA           14\n",
      "7   M  drugB           10\n",
      "8   M  drugC            9\n",
      "9   M  drugX           27\n",
      "Sex     F   M\n",
      "Drug         \n",
      "DrugY  47  44\n",
      "drugA   9  14\n",
      "drugB   6  10\n",
      "drugC   7   9\n",
      "drugX  27  27\n"
     ]
    },
    {
     "data": {
      "image/png": "[encoded data removed]",
      "text/plain": [
       "<Figure size 720x576 with 1 Axes>"
      ]
     },
     "metadata": {
      "needs_background": "light"
     },
     "output_type": "display_data"
    }
   ],
   "source": [
    "gender_drug = drugs_df.groupby(['Sex' , 'Drug']).size().reset_index(name = 'value_count')\n",
    "\n",
    "print(gender_drug)\n",
    "\n",
    "gender_drug_pivot = pd.pivot_table(\n",
    "    gender_drug, \n",
    "    values = 'value_count',\n",
    "    index = 'Drug',\n",
    "    columns = 'Sex'\n",
    ")\n",
    "\n",
    "# aggfunc=np.mean\n",
    "\n",
    "\n",
    "print(gender_drug_pivot)\n",
    "\n",
    "gender_drug_pivot.plot(kind = 'bar' , figsize = (10 , 8) , fontsize = 12 , rot = 360)\n",
    "plt.xlabel('Drug Type', fontsize = 14)\n",
    "plt.ylabel('Value' , fontsize = 14)\n",
    "plt.title('Gender vs Drug Type', fontsize = 16)\n",
    "plt.tight_layout()\n",
    "plt.show()"
   ]
  },
  {
   "cell_type": "markdown",
   "metadata": {},
   "source": [
    "Nothing substantial can be interpreted from plotting Gender vs Drug. There is no bias towards genders for any specific type of Drug."
   ]
  },
  {
   "cell_type": "markdown",
   "metadata": {},
   "source": [
    "## Visualize **BP** and **Drug**\n",
    "\n",
    "Ploltting to see if there is any relation between BP and Drug type. The chart will be a gouped bar chart."
   ]
  },
  {
   "cell_type": "code",
   "execution_count": 59,
   "metadata": {
    "execution": {
     "iopub.execute_input": "2021-09-04T20:46:34.490621Z",
     "iopub.status.busy": "2021-09-04T20:46:34.490174Z",
     "iopub.status.idle": "2021-09-04T20:46:34.822617Z",
     "shell.execute_reply": "2021-09-04T20:46:34.821716Z",
     "shell.execute_reply.started": "2021-09-04T20:46:34.490576Z"
    }
   },
   "outputs": [
    {
     "name": "stdout",
     "output_type": "stream",
     "text": [
      "             Age    Na_to_K\n",
      "Drug                       \n",
      "DrugY  43.747253  22.374780\n",
      "drugA  35.869565  10.918783\n",
      "drugB  62.500000  11.524375\n",
      "drugC  42.500000  10.633750\n",
      "drugX  44.018519  10.650556\n",
      "['HIGH' 'LOW' 'NORMAL']\n",
      "              Age    Na_to_K\n",
      "BP                          \n",
      "HIGH    42.233766  17.040623\n",
      "LOW     47.031250  16.539797\n",
      "NORMAL  44.084746  14.342746\n",
      "       BP   Drug  value_count\n",
      "0    HIGH  DrugY           38\n",
      "1    HIGH  drugA           23\n",
      "2    HIGH  drugB           16\n",
      "3     LOW  DrugY           30\n",
      "4     LOW  drugC           16\n",
      "5     LOW  drugX           18\n",
      "6  NORMAL  DrugY           23\n",
      "7  NORMAL  drugX           36\n"
     ]
    },
    {
     "data": {
      "image/png": "[encoded data removed]",
      "text/plain": [
       "<Figure size 720x576 with 1 Axes>"
      ]
     },
     "metadata": {
      "needs_background": "light"
     },
     "output_type": "display_data"
    }
   ],
   "source": [
    "print(drugs_df.groupby(['Drug']).mean())\n",
    "\n",
    "print(drugs_df['BP'].unique())\n",
    "\n",
    "print(drugs_df.groupby(['BP']).mean())\n",
    "\n",
    "bp_drug = drugs_df.groupby(['BP' , 'Drug']).size().reset_index(name = 'value_count')\n",
    "\n",
    "print(bp_drug)\n",
    "\n",
    "gender_drug_pivot = pd.pivot_table(\n",
    "    gender_drug, \n",
    "    values = 'value_count',\n",
    "    index = 'Drug',\n",
    "    columns = 'Sex'\n",
    ")\n",
    "\n",
    "\n",
    "bp_drug_pivot = pd.pivot_table(bp_drug , values = 'value_count' , columns = 'BP' , index = 'Drug')\n",
    "\n",
    "\n",
    "bp_drug_pivot.plot(kind = 'bar' , figsize = (10 , 8) , fontsize = 12 , rot = 360)\n",
    "plt.xlabel('Drug Type', fontsize = 14)\n",
    "plt.ylabel('Value' , fontsize = 14)\n",
    "plt.title('BP vs Drug Type', fontsize = 16)\n",
    "plt.tight_layout()\n",
    "plt.show()\n"
   ]
  },
  {
   "cell_type": "markdown",
   "metadata": {},
   "source": [
    "A majority of normal BP take DrugX and those with a higher BP take predominantly DrugY with Drug A and Drug B being close contenders."
   ]
  },
  {
   "cell_type": "markdown",
   "metadata": {},
   "source": [
    "## Visualize **Na_to_K** and **Drug**"
   ]
  },
  {
   "cell_type": "code",
   "execution_count": 60,
   "metadata": {
    "execution": {
     "iopub.execute_input": "2021-09-04T20:46:34.824117Z",
     "iopub.status.busy": "2021-09-04T20:46:34.823838Z",
     "iopub.status.idle": "2021-09-04T20:46:35.177856Z",
     "shell.execute_reply": "2021-09-04T20:46:35.176806Z",
     "shell.execute_reply.started": "2021-09-04T20:46:34.824089Z"
    }
   },
   "outputs": [
    {
     "name": "stdout",
     "output_type": "stream",
     "text": [
      "     Na_to_K   Drug\n",
      "0     25.355  DrugY\n",
      "1     13.093  drugC\n",
      "2     10.114  drugC\n",
      "3      7.798  drugX\n",
      "4     18.043  DrugY\n",
      "..       ...    ...\n",
      "195   11.567  drugC\n",
      "196   12.006  drugC\n",
      "197    9.894  drugX\n",
      "198   14.020  drugX\n",
      "199   11.349  drugX\n",
      "\n",
      "[200 rows x 2 columns]\n",
      "Drug\n",
      "DrugY    22.374780\n",
      "drugA    10.918783\n",
      "drugB    11.524375\n",
      "drugC    10.633750\n",
      "drugX    10.650556\n",
      "Name: Na_to_K, dtype: float64\n"
     ]
    },
    {
     "data": {
      "image/png": "[encoded data removed]",
      "text/plain": [
       "<Figure size 720x576 with 1 Axes>"
      ]
     },
     "metadata": {
      "needs_background": "light"
     },
     "output_type": "display_data"
    }
   ],
   "source": [
    "print(drugs_df[['Na_to_K' , 'Drug']])\n",
    "\n",
    "drug_na_k = drugs_df.groupby(['Drug'])['Na_to_K'].mean()\n",
    "\n",
    "print(drug_na_k)\n",
    "\n",
    "drug_na_k.plot(kind = 'bar' , color = 'red' , alpha = 0.5 , rot = 360 , fontsize = 14 , figsize = (10 , 8))\n",
    "plt.xlabel('Drug Type' , fontsize = 15)\n",
    "plt.ylabel('Na_to_K Avg' , fontsize = 15)\n",
    "plt.title('Distirbution of Drug type under Na_to_K' , fontsize = 15)\n",
    "plt.tight_layout()\n",
    "plt.show()"
   ]
  },
  {
   "cell_type": "markdown",
   "metadata": {},
   "source": [
    "The bar chart tells that if the average Na_to_K value exceeds15 then DrugY is preffered and so this feature also plays an important role in classification. We can view the joint distribution of variables in Stripplot."
   ]
  },
  {
   "cell_type": "code",
   "execution_count": 61,
   "metadata": {
    "execution": {
     "iopub.execute_input": "2021-09-04T20:46:35.179603Z",
     "iopub.status.busy": "2021-09-04T20:46:35.179207Z",
     "iopub.status.idle": "2021-09-04T20:46:35.368301Z",
     "shell.execute_reply": "2021-09-04T20:46:35.367231Z",
     "shell.execute_reply.started": "2021-09-04T20:46:35.179569Z"
    }
   },
   "outputs": [
    {
     "data": {
      "image/png": "[encoded data removed]",
      "text/plain": [
       "<Figure size 720x432 with 1 Axes>"
      ]
     },
     "metadata": {
      "needs_background": "light"
     },
     "output_type": "display_data"
    }
   ],
   "source": [
    "# Visualize Na_to_K and drug type using strip plot\n",
    "plt.figure(figsize = (10 , 6))\n",
    "# Plotting a swarmplot to get a distribution of categorical and numerical variables\n",
    "sns.stripplot(x = 'Drug' , y = 'Na_to_K' , data = drugs_df)\n",
    "plt.xlabel('Drug Type' , fontsize = 12)\n",
    "plt.ylabel('Na_to_K Avg' , fontsize = 12)\n",
    "plt.title('Distribution of Na_to_K & Drug')\n",
    "plt.show()\n"
   ]
  },
  {
   "cell_type": "markdown",
   "metadata": {},
   "source": [
    "<a id = 'encoding'></a>\n",
    "## Encoding Categorical Features"
   ]
  },
  {
   "cell_type": "code",
   "execution_count": 62,
   "metadata": {
    "execution": {
     "iopub.execute_input": "2021-09-04T20:46:35.369931Z",
     "iopub.status.busy": "2021-09-04T20:46:35.369569Z",
     "iopub.status.idle": "2021-09-04T20:46:35.382101Z",
     "shell.execute_reply": "2021-09-04T20:46:35.380709Z",
     "shell.execute_reply.started": "2021-09-04T20:46:35.369899Z"
    }
   },
   "outputs": [
    {
     "name": "stdout",
     "output_type": "stream",
     "text": [
      "    Sex      BP Cholesterol   Drug\n",
      "0     F    HIGH        HIGH  DrugY\n",
      "1     M     LOW        HIGH  drugC\n",
      "2     M     LOW        HIGH  drugC\n",
      "3     F  NORMAL        HIGH  drugX\n",
      "4     F     LOW        HIGH  DrugY\n",
      "..   ..     ...         ...    ...\n",
      "195   F     LOW        HIGH  drugC\n",
      "196   M     LOW        HIGH  drugC\n",
      "197   M  NORMAL        HIGH  drugX\n",
      "198   M  NORMAL      NORMAL  drugX\n",
      "199   F     LOW      NORMAL  drugX\n",
      "\n",
      "[200 rows x 4 columns]\n"
     ]
    }
   ],
   "source": [
    "# Get all non-numerical columns\n",
    "print(drugs_df.select_dtypes(exclude=[\"number\",\"bool_\"]))"
   ]
  },
  {
   "cell_type": "markdown",
   "metadata": {},
   "source": [
    "### Label Encoding\n",
    "We can use label encoding for the *Sex* as there is no problem of precedance or hierarchy.\n",
    "The target feature need not be encoded as scikit-learn encodes by default if the target values are strings.\n",
    "\n",
    "The following columns will be label encoded:\n",
    "* Sex"
   ]
  },
  {
   "cell_type": "code",
   "execution_count": 63,
   "metadata": {
    "execution": {
     "iopub.execute_input": "2021-09-04T20:46:35.384377Z",
     "iopub.status.busy": "2021-09-04T20:46:35.383721Z",
     "iopub.status.idle": "2021-09-04T20:46:35.523956Z",
     "shell.execute_reply": "2021-09-04T20:46:35.522870Z",
     "shell.execute_reply.started": "2021-09-04T20:46:35.384331Z"
    }
   },
   "outputs": [],
   "source": [
    "from sklearn.preprocessing import LabelEncoder\n",
    "\n",
    "labelEncoder = LabelEncoder()"
   ]
  },
  {
   "cell_type": "code",
   "execution_count": 64,
   "metadata": {
    "execution": {
     "iopub.execute_input": "2021-09-04T20:46:35.526085Z",
     "iopub.status.busy": "2021-09-04T20:46:35.525669Z",
     "iopub.status.idle": "2021-09-04T20:46:35.531138Z",
     "shell.execute_reply": "2021-09-04T20:46:35.530001Z",
     "shell.execute_reply.started": "2021-09-04T20:46:35.526039Z"
    }
   },
   "outputs": [],
   "source": [
    "# Make a copy of the dataset\n",
    "drugs_train_df = drugs_df.copy()\n",
    "#drugs_temp = drugs_train_df.copy()"
   ]
  },
  {
   "cell_type": "code",
   "execution_count": 65,
   "metadata": {
    "execution": {
     "iopub.execute_input": "2021-09-04T20:46:35.533437Z",
     "iopub.status.busy": "2021-09-04T20:46:35.532980Z",
     "iopub.status.idle": "2021-09-04T20:46:35.547724Z",
     "shell.execute_reply": "2021-09-04T20:46:35.546492Z",
     "shell.execute_reply.started": "2021-09-04T20:46:35.533372Z"
    }
   },
   "outputs": [
    {
     "name": "stdout",
     "output_type": "stream",
     "text": [
      "0    0\n",
      "1    1\n",
      "2    1\n",
      "3    0\n",
      "4    0\n",
      "5    0\n",
      "Name: Sex, dtype: int32\n",
      "0    F\n",
      "1    M\n",
      "2    M\n",
      "3    F\n",
      "4    F\n",
      "5    F\n",
      "Name: Sex, dtype: object\n"
     ]
    }
   ],
   "source": [
    "drugs_train_df['Sex'] = labelEncoder.fit_transform(drugs_train_df['Sex'])\n",
    "#drugs_temp['BP'].sort_values() = labelEncoder.fit_transform(drugs_temp['BP'])\n",
    "#print(drugs_temp.loc[0 : 5, 'BP'].sort_values(ascending = True))\n",
    "print(drugs_train_df.loc[0 : 5, 'Sex'])\n",
    "print(drugs_df.loc[0 : 5, 'Sex'])"
   ]
  },
  {
   "cell_type": "markdown",
   "metadata": {},
   "source": [
    "### Ordinal Encoding\n",
    "\n",
    "Columns *BP* and *Cholesterol* are odrdinal in nature as they have an order of sorts (i.e.) LOW, NORMAL and HIGH, we can use pandas map function to ordinally encode these variables.\n",
    "\n",
    "The following columns will be label encoded:\n",
    "* BP\n",
    "* Cholesterol"
   ]
  },
  {
   "cell_type": "code",
   "execution_count": 66,
   "metadata": {
    "execution": {
     "iopub.execute_input": "2021-09-04T20:46:35.549098Z",
     "iopub.status.busy": "2021-09-04T20:46:35.548802Z",
     "iopub.status.idle": "2021-09-04T20:46:35.564109Z",
     "shell.execute_reply": "2021-09-04T20:46:35.563198Z",
     "shell.execute_reply.started": "2021-09-04T20:46:35.549065Z"
    }
   },
   "outputs": [
    {
     "name": "stdout",
     "output_type": "stream",
     "text": [
      "BP:  ['HIGH' 'LOW' 'NORMAL']\n",
      "Cholesterol:  ['HIGH' 'NORMAL']\n"
     ]
    }
   ],
   "source": [
    "# Get the unique values\n",
    "print('BP: ', drugs_train_df['BP'].unique())\n",
    "print('Cholesterol: ', drugs_train_df['Cholesterol'].unique())"
   ]
  },
  {
   "cell_type": "code",
   "execution_count": 67,
   "metadata": {
    "execution": {
     "iopub.execute_input": "2021-09-04T20:46:35.565630Z",
     "iopub.status.busy": "2021-09-04T20:46:35.565164Z",
     "iopub.status.idle": "2021-09-04T20:46:35.588265Z",
     "shell.execute_reply": "2021-09-04T20:46:35.586798Z",
     "shell.execute_reply.started": "2021-09-04T20:46:35.565598Z"
    }
   },
   "outputs": [],
   "source": [
    "# Define a map function\n",
    "ord_dict = {'LOW': 1 , 'NORMAL' : 2, 'HIGH' : 3}\n",
    "#chol_dict = {}\n",
    "drugs_train_df['BP'] = drugs_train_df['BP'].map(ord_dict)\n",
    "drugs_train_df['Cholesterol'] = drugs_train_df['Cholesterol'].map(ord_dict)"
   ]
  },
  {
   "cell_type": "code",
   "execution_count": 68,
   "metadata": {
    "execution": {
     "iopub.execute_input": "2021-09-04T20:46:35.589893Z",
     "iopub.status.busy": "2021-09-04T20:46:35.589589Z",
     "iopub.status.idle": "2021-09-04T20:46:35.606214Z",
     "shell.execute_reply": "2021-09-04T20:46:35.604800Z",
     "shell.execute_reply.started": "2021-09-04T20:46:35.589865Z"
    }
   },
   "outputs": [
    {
     "name": "stdout",
     "output_type": "stream",
     "text": [
      "BP:  [3 1 2]\n",
      "Cholesterol:  [3 2]\n"
     ]
    }
   ],
   "source": [
    "print('BP: ', drugs_train_df['BP'].unique())\n",
    "print('Cholesterol: ', drugs_train_df['Cholesterol'].unique())"
   ]
  },
  {
   "cell_type": "code",
   "execution_count": 69,
   "metadata": {
    "execution": {
     "iopub.execute_input": "2021-09-04T20:46:35.610954Z",
     "iopub.status.busy": "2021-09-04T20:46:35.610579Z",
     "iopub.status.idle": "2021-09-04T20:46:35.624694Z",
     "shell.execute_reply": "2021-09-04T20:46:35.623539Z",
     "shell.execute_reply.started": "2021-09-04T20:46:35.610923Z"
    }
   },
   "outputs": [
    {
     "name": "stdout",
     "output_type": "stream",
     "text": [
      "     Age  Sex  BP  Cholesterol  Na_to_K   Drug\n",
      "0     23    0   3            3   25.355  DrugY\n",
      "1     47    1   1            3   13.093  drugC\n",
      "2     47    1   1            3   10.114  drugC\n",
      "3     28    0   2            3    7.798  drugX\n",
      "4     61    0   1            3   18.043  DrugY\n",
      "..   ...  ...  ..          ...      ...    ...\n",
      "195   56    0   1            3   11.567  drugC\n",
      "196   16    1   1            3   12.006  drugC\n",
      "197   52    1   2            3    9.894  drugX\n",
      "198   23    1   2            2   14.020  drugX\n",
      "199   40    0   1            2   11.349  drugX\n",
      "\n",
      "[200 rows x 6 columns]\n"
     ]
    }
   ],
   "source": [
    "print(drugs_train_df)"
   ]
  },
  {
   "cell_type": "markdown",
   "metadata": {},
   "source": [
    "Now the data does not lose its meaning since we have done ordinal encoding of the key feature columns."
   ]
  },
  {
   "cell_type": "markdown",
   "metadata": {},
   "source": [
    "<a id = 'model'></a>\n",
    "## Building Classification models"
   ]
  },
  {
   "cell_type": "markdown",
   "metadata": {},
   "source": [
    "**Split into Trian and Test data**"
   ]
  },
  {
   "cell_type": "code",
   "execution_count": 70,
   "metadata": {
    "execution": {
     "iopub.execute_input": "2021-09-04T20:46:35.626771Z",
     "iopub.status.busy": "2021-09-04T20:46:35.626457Z",
     "iopub.status.idle": "2021-09-04T20:46:35.639745Z",
     "shell.execute_reply": "2021-09-04T20:46:35.638693Z",
     "shell.execute_reply.started": "2021-09-04T20:46:35.626742Z"
    }
   },
   "outputs": [
    {
     "name": "stdout",
     "output_type": "stream",
     "text": [
      "(200, 6)\n"
     ]
    }
   ],
   "source": [
    "# Number of records\n",
    "print(drugs_train_df.shape)"
   ]
  },
  {
   "cell_type": "code",
   "execution_count": 71,
   "metadata": {
    "execution": {
     "iopub.execute_input": "2021-09-04T20:46:35.641352Z",
     "iopub.status.busy": "2021-09-04T20:46:35.640894Z",
     "iopub.status.idle": "2021-09-04T20:46:35.654169Z",
     "shell.execute_reply": "2021-09-04T20:46:35.653414Z",
     "shell.execute_reply.started": "2021-09-04T20:46:35.641305Z"
    }
   },
   "outputs": [],
   "source": [
    "def splitDataset(x_df: pd.DataFrame , y_df: pd.DataFrame)-> (pd.DataFrame, pd.DataFrame, pd.DataFrame, pd.DataFrame):\n",
    "        \n",
    "        '''\n",
    "        Function to split a dataset into Train and test sets\n",
    "        \n",
    "        '''\n",
    "        \n",
    "        ratio = 0.8\n",
    "        \n",
    "        mask = np.random.rand(len(x_df)) <= ratio\n",
    "        \n",
    "        x_train = x_df[mask]\n",
    "        x_test = x_df[~mask]\n",
    "        \n",
    "        y_train = y_df[mask]\n",
    "        y_test = y_df[~mask]\n",
    "        \n",
    "        \n",
    "        return x_train, y_train, x_test, y_test\n",
    "        "
   ]
  },
  {
   "cell_type": "code",
   "execution_count": 72,
   "metadata": {
    "execution": {
     "iopub.execute_input": "2021-09-04T20:46:35.656057Z",
     "iopub.status.busy": "2021-09-04T20:46:35.655468Z",
     "iopub.status.idle": "2021-09-04T20:46:35.674621Z",
     "shell.execute_reply": "2021-09-04T20:46:35.673367Z",
     "shell.execute_reply.started": "2021-09-04T20:46:35.656010Z"
    }
   },
   "outputs": [
    {
     "name": "stdout",
     "output_type": "stream",
     "text": [
      "X Train Shape:  (166, 5)\n",
      "X Test Shape:  (34, 5)\n",
      "Y Train Shape:  (166,)\n",
      "Y Test Shape:  (34,)\n"
     ]
    }
   ],
   "source": [
    "np.random.seed(123)\n",
    "\n",
    "y_df = drugs_train_df['Drug']\n",
    "x_df = drugs_train_df.drop(['Drug'] , axis = 1)\n",
    "\n",
    "x_train, y_train, x_test, y_test = splitDataset(x_df , y_df)\n",
    "\n",
    "print('X Train Shape: ', x_train.shape)\n",
    "print('X Test Shape: ', x_test.shape)\n",
    "print('Y Train Shape: ', y_train.shape)\n",
    "print('Y Test Shape: ', y_test.shape)"
   ]
  },
  {
   "cell_type": "markdown",
   "metadata": {},
   "source": [
    "### Logistic Regression"
   ]
  },
  {
   "cell_type": "code",
   "execution_count": 73,
   "metadata": {
    "execution": {
     "iopub.execute_input": "2021-09-04T20:46:35.677973Z",
     "iopub.status.busy": "2021-09-04T20:46:35.677497Z",
     "iopub.status.idle": "2021-09-04T20:46:35.832508Z",
     "shell.execute_reply": "2021-09-04T20:46:35.831427Z",
     "shell.execute_reply.started": "2021-09-04T20:46:35.677925Z"
    }
   },
   "outputs": [],
   "source": [
    "from sklearn.linear_model import LogisticRegression"
   ]
  },
  {
   "cell_type": "code",
   "execution_count": 74,
   "metadata": {
    "execution": {
     "iopub.execute_input": "2021-09-04T20:46:35.835135Z",
     "iopub.status.busy": "2021-09-04T20:46:35.834836Z",
     "iopub.status.idle": "2021-09-04T20:46:35.995371Z",
     "shell.execute_reply": "2021-09-04T20:46:35.994602Z",
     "shell.execute_reply.started": "2021-09-04T20:46:35.835105Z"
    }
   },
   "outputs": [],
   "source": [
    "# Define the model\n",
    "logistic_regression = LogisticRegression(solver='liblinear')\n",
    "logistic_regression.fit(x_train , y_train)\n",
    "\n",
    "y_pred = logistic_regression.predict(x_test)"
   ]
  },
  {
   "cell_type": "code",
   "execution_count": 75,
   "metadata": {
    "execution": {
     "iopub.execute_input": "2021-09-04T20:46:35.996849Z",
     "iopub.status.busy": "2021-09-04T20:46:35.996402Z",
     "iopub.status.idle": "2021-09-04T20:46:36.006027Z",
     "shell.execute_reply": "2021-09-04T20:46:36.004839Z",
     "shell.execute_reply.started": "2021-09-04T20:46:35.996815Z"
    }
   },
   "outputs": [],
   "source": [
    "# Get scores\n",
    "train_score = logistic_regression.score(x_train , y_train)\n",
    "test_score = logistic_regression.score(x_test , y_test)"
   ]
  },
  {
   "cell_type": "code",
   "execution_count": 76,
   "metadata": {
    "execution": {
     "iopub.execute_input": "2021-09-04T20:46:36.008008Z",
     "iopub.status.busy": "2021-09-04T20:46:36.007615Z",
     "iopub.status.idle": "2021-09-04T20:46:36.021798Z",
     "shell.execute_reply": "2021-09-04T20:46:36.020695Z",
     "shell.execute_reply.started": "2021-09-04T20:46:36.007971Z"
    }
   },
   "outputs": [
    {
     "name": "stdout",
     "output_type": "stream",
     "text": [
      "Train score: 0.86\n",
      "Test score: 0.82\n"
     ]
    }
   ],
   "source": [
    "print('Train score: {:.2f}'.format(train_score))\n",
    "print('Test score: {:.2f}'.format(test_score))"
   ]
  },
  {
   "cell_type": "markdown",
   "metadata": {},
   "source": [
    "<a id= \"evaluate\"></a>\n",
    "## Evaluating Classification Models"
   ]
  },
  {
   "cell_type": "code",
   "execution_count": 77,
   "metadata": {
    "execution": {
     "iopub.execute_input": "2021-09-04T20:46:36.023616Z",
     "iopub.status.busy": "2021-09-04T20:46:36.023198Z",
     "iopub.status.idle": "2021-09-04T20:46:36.035885Z",
     "shell.execute_reply": "2021-09-04T20:46:36.034746Z",
     "shell.execute_reply.started": "2021-09-04T20:46:36.023584Z"
    }
   },
   "outputs": [],
   "source": [
    "from sklearn.metrics import confusion_matrix\n",
    "from sklearn.metrics import accuracy_score , precision_score , recall_score , f1_score\n",
    "from sklearn.metrics import classification_report"
   ]
  },
  {
   "cell_type": "markdown",
   "metadata": {},
   "source": [
    "**Confusion Matrix**"
   ]
  },
  {
   "cell_type": "code",
   "execution_count": 78,
   "metadata": {
    "execution": {
     "iopub.execute_input": "2021-09-04T20:46:36.038243Z",
     "iopub.status.busy": "2021-09-04T20:46:36.037890Z",
     "iopub.status.idle": "2021-09-04T20:46:36.393105Z",
     "shell.execute_reply": "2021-09-04T20:46:36.391862Z",
     "shell.execute_reply.started": "2021-09-04T20:46:36.038210Z"
    }
   },
   "outputs": [
    {
     "data": {
      "image/png": "[encoded data removed]",
      "text/plain": [
       "<Figure size 720x576 with 2 Axes>"
      ]
     },
     "metadata": {
      "needs_background": "light"
     },
     "output_type": "display_data"
    }
   ],
   "source": [
    "conf_matrix = confusion_matrix(y_test , y_pred)\n",
    "\n",
    "# print(conf_matrix)\n",
    "\n",
    "plt.figure(figsize = (10, 8))\n",
    "sns.heatmap(conf_matrix, annot = True, fmt = \".3f\", linewidths =.5, square = True, cmap = 'Blues_r')\n",
    "plt.ylabel('Actual label' , fontsize = 12)\n",
    "plt.xlabel('Predicted label' , fontsize = 12)\n",
    "plt.title('Confusion Matrix' , fontsize = 15)\n",
    "plt.show()"
   ]
  },
  {
   "cell_type": "markdown",
   "metadata": {},
   "source": [
    "**Precision, Recall and F1-Score**"
   ]
  },
  {
   "cell_type": "code",
   "execution_count": 79,
   "metadata": {
    "execution": {
     "iopub.execute_input": "2021-09-04T20:46:40.951355Z",
     "iopub.status.busy": "2021-09-04T20:46:40.950988Z",
     "iopub.status.idle": "2021-09-04T20:46:40.965698Z",
     "shell.execute_reply": "2021-09-04T20:46:40.964469Z",
     "shell.execute_reply.started": "2021-09-04T20:46:40.951325Z"
    }
   },
   "outputs": [
    {
     "name": "stdout",
     "output_type": "stream",
     "text": [
      "              precision    recall  f1-score   support\n",
      "\n",
      "       DrugY       0.89      1.00      0.94        17\n",
      "       drugA       1.00      1.00      1.00         1\n",
      "       drugB       1.00      0.60      0.75         5\n",
      "       drugC       1.00      0.33      0.50         3\n",
      "       drugX       0.60      0.75      0.67         8\n",
      "\n",
      "    accuracy                           0.82        34\n",
      "   macro avg       0.90      0.74      0.77        34\n",
      "weighted avg       0.85      0.82      0.81        34\n",
      "\n"
     ]
    }
   ],
   "source": [
    "# Classification Report\n",
    "print(classification_report(y_test, y_pred))"
   ]
  },
  {
   "cell_type": "markdown",
   "metadata": {},
   "source": [
    "The **Recall** score for the various classes are high which is a good indicator that the model is predicting a positive case when the actual value is also true. Recall tells from all the positive cases how many were predicted correctly\n",
    "\n",
    "$recall = \\frac{TP}{TP + FN} $\n",
    "\n",
    "\n",
    "Precision tells about predicting positive classes when the result is actually positive and the scores look good.\n",
    "\n",
    "$precision = \\frac{TP}{TP + FP}$\n"
   ]
  },
  {
   "cell_type": "markdown",
   "metadata": {},
   "source": [
    "**Classification Error or Misclassification Rate**\n",
    "\n",
    "This tells overall how often the classification is incorrect.\n",
    "\n",
    "$accuracy = \\frac{TP + TN}{TP + TN + FP + FN}$\n",
    "\n",
    "$classification{\\_}error = \\frac{FP + FN}{TP + TN + FP + FN}$\n",
    "\n",
    "$classification{\\_}error = 1 - accuracy$"
   ]
  },
  {
   "cell_type": "code",
   "execution_count": 80,
   "metadata": {
    "execution": {
     "iopub.execute_input": "2021-09-04T21:07:24.863440Z",
     "iopub.status.busy": "2021-09-04T21:07:24.863030Z",
     "iopub.status.idle": "2021-09-04T21:07:24.871609Z",
     "shell.execute_reply": "2021-09-04T21:07:24.870533Z",
     "shell.execute_reply.started": "2021-09-04T21:07:24.863401Z"
    }
   },
   "outputs": [
    {
     "name": "stdout",
     "output_type": "stream",
     "text": [
      "Accuracy: 0.82\n",
      "Misclassification rate: 0.18\n"
     ]
    }
   ],
   "source": [
    "# Get accuracy score\n",
    "acc = accuracy_score(y_test , y_pred)\n",
    "print('Accuracy: {:.2f}'.format(acc))\n",
    "\n",
    "class_err = 1 - acc\n",
    "print('Misclassification rate: {:.2f}'.format(class_err))"
   ]
  },
  {
   "cell_type": "markdown",
   "metadata": {},
   "source": [
    "The misclassification rate is quite low and this makes the model a decent predictor of different drug types. We can also improve the model performance by performing Hyperparameter tuning using GridSearchCV, but that will be useful on a bigger dataset."
   ]
  }
 ],
 "metadata": {
  "kernelspec": {
   "display_name": "Python 3",
   "language": "python",
   "name": "python3"
  },
  "language_info": {
   "codemirror_mode": {
    "name": "ipython",
    "version": 3
   },
   "file_extension": ".py",
   "mimetype": "text/x-python",
   "name": "python",
   "nbconvert_exporter": "python",
   "pygments_lexer": "ipython3",
   "version": "3.7.5"
  }
 },
 "nbformat": 4,
 "nbformat_minor": 4
}
